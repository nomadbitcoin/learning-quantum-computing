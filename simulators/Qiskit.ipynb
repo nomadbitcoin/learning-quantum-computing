{
 "cells": [
  {
   "cell_type": "code",
   "execution_count": 1,
   "metadata": {},
   "outputs": [],
   "source": [
    "#!pip3 install qiskit\n"
   ]
  },
  {
   "cell_type": "markdown",
   "metadata": {},
   "source": [
    "caso de o erro: <b>x86_64-linux-gnu-gcc</b> essa solucao pode ajudar: \n",
    "https://github.com/scrapy/scrapy/issues/2115"
   ]
  },
  {
   "cell_type": "markdown",
   "metadata": {},
   "source": [
    "### Importamos os modulos necessarios para criar o programa"
   ]
  },
  {
   "cell_type": "code",
   "execution_count": 2,
   "metadata": {},
   "outputs": [],
   "source": [
    "from qiskit import ClassicalRegister, QuantumRegister, QuantumCircuit\n",
    "from qiskit import execute, IBMQ, Aer"
   ]
  },
  {
   "cell_type": "markdown",
   "metadata": {},
   "source": [
    "### Configuramos a chamada a API do IBM Q com o token"
   ]
  },
  {
   "cell_type": "code",
   "execution_count": 3,
   "metadata": {},
   "outputs": [
    {
     "name": "stderr",
     "output_type": "stream",
     "text": [
      "/home/yan/.local/lib/python3.5/site-packages/qiskit/providers/ibmq/credentials/configrc.py:130: UserWarning: Credentials already present. Set overwrite=True to overwrite.\n",
      "  warnings.warn('Credentials already present. '\n"
     ]
    }
   ],
   "source": [
    "IBMQ.save_account('ad8ca8c5ae944c27e25cdeb2fc5d9214382f4f5df40f4838a062868c09eb6e1612240d8c9529c9771512154d83eae4d9ab8d2b169dcb253569b770e0b71492e0')"
   ]
  },
  {
   "cell_type": "markdown",
   "metadata": {},
   "source": [
    "Em seguida, criamos um <b>registrador quântico chamado qreg </b> e um <b>registrador clássico chamado creg </b>, com 1 bit cada, e os reunimos em um <b>circuito quântico chamado circ</b>"
   ]
  },
  {
   "cell_type": "code",
   "execution_count": 4,
   "metadata": {},
   "outputs": [],
   "source": [
    "qreg = QuantumRegister(1)\n",
    "creg = ClassicalRegister(1)\n",
    "circ = QuantumCircuit(qreg, creg)"
   ]
  },
  {
   "cell_type": "markdown",
   "metadata": {},
   "source": [
    "Depois disso, nós vamos aplicar um <b> GATE X no qubit que esta no registrador qreg </b>, medir seu valor e armazená-lo no bit clássico do registrador creg"
   ]
  },
  {
   "cell_type": "code",
   "execution_count": 5,
   "metadata": {},
   "outputs": [
    {
     "data": {
      "text/plain": [
       "<qiskit.circuit.instructionset.InstructionSet at 0x7fd1e087afd0>"
      ]
     },
     "execution_count": 5,
     "metadata": {},
     "output_type": "execute_result"
    }
   ],
   "source": [
    "circ.x(qreg[0])\n",
    "circ.measure(qreg[0], creg[0])"
   ]
  },
  {
   "cell_type": "markdown",
   "metadata": {},
   "source": [
    "Então nós configuramos a API para executar esse circuito, o parâmetro <b> shots </b> define quantas vezes a instrução será executada"
   ]
  },
  {
   "cell_type": "code",
   "execution_count": 6,
   "metadata": {},
   "outputs": [],
   "source": [
    "simulator = Aer.get_backend('qasm_simulator')\n",
    "# Execute and get counts\n",
    "result = execute(circ, simulator, shots=2).result()\n",
    "counts = result.get_counts()"
   ]
  },
  {
   "cell_type": "code",
   "execution_count": 7,
   "metadata": {},
   "outputs": [
    {
     "name": "stdout",
     "output_type": "stream",
     "text": [
      "{'1': 2}\n"
     ]
    }
   ],
   "source": [
    "print(counts)"
   ]
  },
  {
   "cell_type": "markdown",
   "metadata": {},
   "source": [
    "Isso significa que, nas duas vezes em que o programa foi executado, o valor do bit no registro clássico foi 1"
   ]
  },
  {
   "cell_type": "code",
   "execution_count": 8,
   "metadata": {},
   "outputs": [
    {
     "name": "stdout",
     "output_type": "stream",
     "text": [
      "Digite um número binário com menos de 8 dígitos1011101\n",
      "Digite outro número binário com menos de 8 dígitos1100001\n"
     ]
    }
   ],
   "source": [
    "first = input (\"Digite um número binário com menos de 8 dígitos\") \n",
    "second = input (\"Digite outro número binário com menos de 8 dígitos\")"
   ]
  },
  {
   "cell_type": "code",
   "execution_count": 9,
   "metadata": {},
   "outputs": [],
   "source": [
    "# first = str(100) # 4 : 00000100\n",
    "# second = str(101) # 5 : 00000101"
   ]
  },
  {
   "cell_type": "code",
   "execution_count": 10,
   "metadata": {},
   "outputs": [],
   "source": [
    "l = len(first)\n",
    "l2 = len(second)\n",
    "if l > l2:\n",
    "     n = l\n",
    "else:\n",
    "     n = l2\n",
    "#Initializing the registers; two quantum registers with n bits each\n",
    "#1 more with n+1 bits, which will also hold the sum of the two #numbers\n",
    "#The classical register has n+1 bits, which is used to make the sum #readable\n",
    "a = QuantumRegister(n) #First number\n",
    "b = QuantumRegister(n+1) #Second number, then sum\n",
    "c = QuantumRegister(n) #Carry bits\n",
    "cl = ClassicalRegister(n+1) #Classical output\n",
    "#Combining all of them into one quantum circuit\n",
    "qc = QuantumCircuit(a, b, c, cl)"
   ]
  },
  {
   "cell_type": "code",
   "execution_count": 11,
   "metadata": {},
   "outputs": [],
   "source": [
    "#Setting up the registers using the values inputted\n",
    "for i in range(l):\n",
    "    if first[i] == \"1\":\n",
    "        qc.x(a[l - (i+1)]) #Flip the qubit from 0 to 1\n",
    "for i in range(l2):\n",
    "    if second[i] == \"1\":\n",
    "        qc.x(b[l2 - (i+1)]) #Flip the qubit from 0 to 1"
   ]
  },
  {
   "cell_type": "code",
   "execution_count": 12,
   "metadata": {},
   "outputs": [
    {
     "data": {
      "text/plain": [
       "<qiskit.circuit.instructionset.InstructionSet at 0x7fd19a216588>"
      ]
     },
     "execution_count": 12,
     "metadata": {},
     "output_type": "execute_result"
    }
   ],
   "source": [
    "#For the last iteration of the carry gate, instead of feeding the #result to c[n], we use b[n], which is why c has only n bits, with #c[n-1] being the last carry bit\n",
    "qc.ccx(a[n-1], b[n-1], b[n])\n",
    "qc.cx(a[n-1], b[n-1])\n",
    "qc.ccx(c[n-1], b[n-1], b[n])"
   ]
  },
  {
   "cell_type": "code",
   "execution_count": 13,
   "metadata": {},
   "outputs": [],
   "source": [
    "#Reversing the gate operation performed on b[n-1]\n",
    "qc.cx(c[n-1], b[n-1])\n",
    "#Reversing the gate operations performed during the carry gate implementations\n",
    "#This is done to ensure the sum gates are fed with the correct input bit states\n",
    "for i in range(n-1):\n",
    "    qc.ccx(c[(n-2)-i], b[(n-2)-i], c[(n-1)-i])\n",
    "    qc.cx(a[(n-2)-i], b[(n-2)-i])\n",
    "    qc.ccx(a[(n-2)-i], b[(n-2)-i], c[(n-1)-i])\n",
    "    #These two operations act as a sum gate; if a control bit is at                \n",
    "    #the 1> state then the target bit b[(n-2)-i] is flipped\n",
    "    qc.cx(c[(n-2)-i], b[(n-2)-i])\n",
    "    qc.cx(a[(n-2)-i], b[(n-2)-i])"
   ]
  },
  {
   "cell_type": "code",
   "execution_count": 14,
   "metadata": {},
   "outputs": [],
   "source": [
    "#Measure qubits and store results in classical register cl\n",
    "for i in range(n+1):\n",
    "    qc.measure(b[i], cl[i])"
   ]
  },
  {
   "cell_type": "code",
   "execution_count": 15,
   "metadata": {},
   "outputs": [
    {
     "name": "stdout",
     "output_type": "stream",
     "text": [
      "{'10100001': 2}\n"
     ]
    }
   ],
   "source": [
    "#Set chosen backend and execute job\n",
    "num_shots = 2 #Setting the number of times to repeat measurement\n",
    "selected_backend = Aer.get_backend('qasm_simulator')\n",
    "job = execute(qc, selected_backend, shots=num_shots)\n",
    "#Get results of program\n",
    "job_stats = job.result().get_counts()\n",
    "print(job_stats)"
   ]
  },
  {
   "cell_type": "code",
   "execution_count": 16,
   "metadata": {},
   "outputs": [
    {
     "name": "stdout",
     "output_type": "stream",
     "text": [
      "         ┌───┐                                                               »\n",
      "q1_0: |0>┤ X ├───────────────────────────────────────────────────────────────»\n",
      "         └───┘                                                               »\n",
      "q1_1: |0>────────────────────────────────────────────────────────────────────»\n",
      "         ┌───┐                                                               »\n",
      "q1_2: |0>┤ X ├───────────────────────────────────────────────────────────────»\n",
      "         ├───┤                                                               »\n",
      "q1_3: |0>┤ X ├───────────────────────────────────────────────────────────────»\n",
      "         ├───┤                                                               »\n",
      "q1_4: |0>┤ X ├───────────────────────────────────────────────────────■────■──»\n",
      "         └───┘                                                       │    │  »\n",
      "q1_5: |0>───────────────────────────────────■────■─────────■─────────┼────┼──»\n",
      "         ┌───┐                              │    │         │         │    │  »\n",
      "q1_6: |0>┤ X ├──■────■──────────────────────┼────┼─────────┼─────────┼────┼──»\n",
      "         ├───┤  │    │                      │    │         │         │    │  »\n",
      "q2_0: |0>┤ X ├──┼────┼──────────────────────┼────┼─────────┼─────────┼────┼──»\n",
      "         └───┘  │    │                      │    │         │         │    │  »\n",
      "q2_1: |0>───────┼────┼──────────────────────┼────┼─────────┼─────────┼────┼──»\n",
      "                │    │                      │    │         │         │    │  »\n",
      "q2_2: |0>───────┼────┼──────────────────────┼────┼─────────┼─────────┼────┼──»\n",
      "                │    │                      │    │         │         │    │  »\n",
      "q2_3: |0>───────┼────┼──────────────────────┼────┼─────────┼─────────┼────┼──»\n",
      "                │    │                      │    │         │       ┌─┴─┐  │  »\n",
      "q2_4: |0>───────┼────┼──────────────────────┼────┼─────────┼────■──┤ X ├──■──»\n",
      "         ┌───┐  │    │                    ┌─┴─┐  │  ┌───┐┌─┴─┐  │  └┬─┬┘  │  »\n",
      "q2_5: |0>┤ X ├──┼────┼─────────────────■──┤ X ├──■──┤ X ├┤ X ├──┼───┤M├───┼──»\n",
      "         ├───┤  │  ┌─┴─┐     ┌───┐     │  └┬─┬┘  │  └─┬─┘└───┘  │   └╥┘   │  »\n",
      "q2_6: |0>┤ X ├──■──┤ X ├──■──┤ X ├─────┼───┤M├───┼────┼─────────┼────╫────┼──»\n",
      "         └───┘┌─┴─┐└───┘┌─┴─┐└─┬─┘┌─┐  │   └╥┘   │    │         │    ║    │  »\n",
      "q2_7: |0>─────┤ X ├─────┤ X ├──┼──┤M├──┼────╫────┼────┼─────────┼────╫────┼──»\n",
      "              └───┘     └─┬─┘  │  └╥┘  │    ║    │    │         │    ║    │  »\n",
      "q3_0: |0>─────────────────┼────┼───╫───┼────╫────┼────┼─────────┼────╫────┼──»\n",
      "                          │    │   ║   │    ║    │    │         │    ║    │  »\n",
      "q3_1: |0>─────────────────┼────┼───╫───┼────╫────┼────┼─────────┼────╫────┼──»\n",
      "                          │    │   ║   │    ║    │    │         │    ║    │  »\n",
      "q3_2: |0>─────────────────┼────┼───╫───┼────╫────┼────┼─────────┼────╫────┼──»\n",
      "                          │    │   ║   │    ║    │    │         │    ║    │  »\n",
      "q3_3: |0>─────────────────┼────┼───╫───┼────╫────┼────┼─────────┼────╫────┼──»\n",
      "                          │    │   ║   │    ║    │    │         │    ║    │  »\n",
      "q3_4: |0>─────────────────┼────┼───╫───┼────╫────┼────┼─────────■────╫────┼──»\n",
      "                          │    │   ║   │    ║    │    │       ┌─┴─┐  ║  ┌─┴─┐»\n",
      "q3_5: |0>─────────────────┼────┼───╫───■────╫────┼────■───────┤ X ├──╫──┤ X ├»\n",
      "                          │    │   ║ ┌─┴─┐  ║  ┌─┴─┐          └───┘  ║  └───┘»\n",
      "q3_6: |0>─────────────────■────■───╫─┤ X ├──╫──┤ X ├─────────────────╫───────»\n",
      "                                   ║ └───┘  ║  └───┘                 ║       »\n",
      " c1_0: 0 ══════════════════════════╬════════╬════════════════════════╬═══════»\n",
      "                                   ║        ║                        ║       »\n",
      " c1_1: 0 ══════════════════════════╬════════╬════════════════════════╬═══════»\n",
      "                                   ║        ║                        ║       »\n",
      " c1_2: 0 ══════════════════════════╬════════╬════════════════════════╬═══════»\n",
      "                                   ║        ║                        ║       »\n",
      " c1_3: 0 ══════════════════════════╬════════╬════════════════════════╬═══════»\n",
      "                                   ║        ║                        ║       »\n",
      " c1_4: 0 ══════════════════════════╬════════╬════════════════════════╬═══════»\n",
      "                                   ║        ║                        ║       »\n",
      " c1_5: 0 ══════════════════════════╬════════╬════════════════════════╩═══════»\n",
      "                                   ║        ║                                »\n",
      " c1_6: 0 ══════════════════════════╬════════╩════════════════════════════════»\n",
      "                                   ║                                         »\n",
      " c1_7: 0 ══════════════════════════╩═════════════════════════════════════════»\n",
      "                                                                             »\n",
      "«                                                                            »\n",
      "«q1_0: ──────────────────────────────────────────────────────────────────────»\n",
      "«                                                                            »\n",
      "«q1_1: ───────────────────────────────────────────────────────────────────■──»\n",
      "«                                                                         │  »\n",
      "«q1_2: ──────────────────────────────────────────■────■─────────■─────────┼──»\n",
      "«                                                │    │         │         │  »\n",
      "«q1_3: ─────────────────■────■─────────■─────────┼────┼─────────┼─────────┼──»\n",
      "«                       │    │         │         │    │         │         │  »\n",
      "«q1_4: ───────■─────────┼────┼─────────┼─────────┼────┼─────────┼─────────┼──»\n",
      "«             │         │    │         │         │    │         │         │  »\n",
      "«q1_5: ───────┼─────────┼────┼─────────┼─────────┼────┼─────────┼─────────┼──»\n",
      "«             │         │    │         │         │    │         │         │  »\n",
      "«q1_6: ───────┼─────────┼────┼─────────┼─────────┼────┼─────────┼─────────┼──»\n",
      "«             │         │    │         │         │    │         │         │  »\n",
      "«q2_0: ───────┼─────────┼────┼─────────┼─────────┼────┼─────────┼─────────┼──»\n",
      "«             │         │    │         │         │    │         │       ┌─┴─┐»\n",
      "«q2_1: ───────┼─────────┼────┼─────────┼─────────┼────┼─────────┼────■──┤ X ├»\n",
      "«             │         │    │         │       ┌─┴─┐  │  ┌───┐┌─┴─┐  │  └┬─┬┘»\n",
      "«q2_2: ───────┼─────────┼────┼─────────┼────■──┤ X ├──■──┤ X ├┤ X ├──┼───┤M├─»\n",
      "«             │       ┌─┴─┐  │  ┌───┐┌─┴─┐  │  └┬─┬┘  │  └─┬─┘└───┘  │   └╥┘ »\n",
      "«q2_3: ───────┼────■──┤ X ├──■──┤ X ├┤ X ├──┼───┤M├───┼────┼─────────┼────╫──»\n",
      "«      ┌───┐┌─┴─┐  │  └┬─┬┘  │  └─┬─┘└───┘  │   └╥┘   │    │         │    ║  »\n",
      "«q2_4: ┤ X ├┤ X ├──┼───┤M├───┼────┼─────────┼────╫────┼────┼─────────┼────╫──»\n",
      "«      └─┬─┘└───┘  │   └╥┘   │    │         │    ║    │    │         │    ║  »\n",
      "«q2_5: ──┼─────────┼────╫────┼────┼─────────┼────╫────┼────┼─────────┼────╫──»\n",
      "«        │         │    ║    │    │         │    ║    │    │         │    ║  »\n",
      "«q2_6: ──┼─────────┼────╫────┼────┼─────────┼────╫────┼────┼─────────┼────╫──»\n",
      "«        │         │    ║    │    │         │    ║    │    │         │    ║  »\n",
      "«q2_7: ──┼─────────┼────╫────┼────┼─────────┼────╫────┼────┼─────────┼────╫──»\n",
      "«        │         │    ║    │    │         │    ║    │    │         │    ║  »\n",
      "«q3_0: ──┼─────────┼────╫────┼────┼─────────┼────╫────┼────┼─────────┼────╫──»\n",
      "«        │         │    ║    │    │         │    ║    │    │         │    ║  »\n",
      "«q3_1: ──┼─────────┼────╫────┼────┼─────────┼────╫────┼────┼─────────■────╫──»\n",
      "«        │         │    ║    │    │         │    ║    │    │       ┌─┴─┐  ║  »\n",
      "«q3_2: ──┼─────────┼────╫────┼────┼─────────■────╫────┼────■───────┤ X ├──╫──»\n",
      "«        │         │    ║    │    │       ┌─┴─┐  ║  ┌─┴─┐          └───┘  ║  »\n",
      "«q3_3: ──┼─────────■────╫────┼────■───────┤ X ├──╫──┤ X ├─────────────────╫──»\n",
      "«        │       ┌─┴─┐  ║  ┌─┴─┐          └───┘  ║  └───┘                 ║  »\n",
      "«q3_4: ──■───────┤ X ├──╫──┤ X ├─────────────────╫────────────────────────╫──»\n",
      "«                └───┘  ║  └───┘                 ║                        ║  »\n",
      "«q3_5: ─────────────────╫────────────────────────╫────────────────────────╫──»\n",
      "«                       ║                        ║                        ║  »\n",
      "«q3_6: ─────────────────╫────────────────────────╫────────────────────────╫──»\n",
      "«                       ║                        ║                        ║  »\n",
      "«c1_0: ═════════════════╬════════════════════════╬════════════════════════╬══»\n",
      "«                       ║                        ║                        ║  »\n",
      "«c1_1: ═════════════════╬════════════════════════╬════════════════════════╬══»\n",
      "«                       ║                        ║                        ║  »\n",
      "«c1_2: ═════════════════╬════════════════════════╬════════════════════════╩══»\n",
      "«                       ║                        ║                           »\n",
      "«c1_3: ═════════════════╬════════════════════════╩═══════════════════════════»\n",
      "«                       ║                                                    »\n",
      "«c1_4: ═════════════════╩════════════════════════════════════════════════════»\n",
      "«                                                                            »\n",
      "«c1_5: ══════════════════════════════════════════════════════════════════════»\n",
      "«                                                                            »\n",
      "«c1_6: ══════════════════════════════════════════════════════════════════════»\n",
      "«                                                                            »\n",
      "«c1_7: ══════════════════════════════════════════════════════════════════════»\n",
      "«                                                                            »\n",
      "«                                                 \n",
      "«q1_0: ──────────────────────■────■─────────■─────\n",
      "«                            │    │         │     \n",
      "«q1_1: ──■─────────■─────────┼────┼─────────┼─────\n",
      "«        │         │         │    │         │     \n",
      "«q1_2: ──┼─────────┼─────────┼────┼─────────┼─────\n",
      "«        │         │         │    │         │     \n",
      "«q1_3: ──┼─────────┼─────────┼────┼─────────┼─────\n",
      "«        │         │         │    │         │     \n",
      "«q1_4: ──┼─────────┼─────────┼────┼─────────┼─────\n",
      "«        │         │         │    │         │     \n",
      "«q1_5: ──┼─────────┼─────────┼────┼─────────┼─────\n",
      "«        │         │         │    │         │     \n",
      "«q1_6: ──┼─────────┼─────────┼────┼─────────┼─────\n",
      "«        │         │       ┌─┴─┐  │  ┌───┐┌─┴─┐┌─┐\n",
      "«q2_0: ──┼─────────┼────■──┤ X ├──■──┤ X ├┤ X ├┤M├\n",
      "«        │  ┌───┐┌─┴─┐  │  └┬─┬┘  │  └─┬─┘└───┘└╥┘\n",
      "«q2_1: ──■──┤ X ├┤ X ├──┼───┤M├───┼────┼────────╫─\n",
      "«        │  └─┬─┘└───┘  │   └╥┘   │    │        ║ \n",
      "«q2_2: ──┼────┼─────────┼────╫────┼────┼────────╫─\n",
      "«        │    │         │    ║    │    │        ║ \n",
      "«q2_3: ──┼────┼─────────┼────╫────┼────┼────────╫─\n",
      "«        │    │         │    ║    │    │        ║ \n",
      "«q2_4: ──┼────┼─────────┼────╫────┼────┼────────╫─\n",
      "«        │    │         │    ║    │    │        ║ \n",
      "«q2_5: ──┼────┼─────────┼────╫────┼────┼────────╫─\n",
      "«        │    │         │    ║    │    │        ║ \n",
      "«q2_6: ──┼────┼─────────┼────╫────┼────┼────────╫─\n",
      "«        │    │         │    ║    │    │        ║ \n",
      "«q2_7: ──┼────┼─────────┼────╫────┼────┼────────╫─\n",
      "«        │    │         │    ║    │    │        ║ \n",
      "«q3_0: ──┼────┼─────────■────╫────┼────■────────╫─\n",
      "«        │    │       ┌─┴─┐  ║  ┌─┴─┐           ║ \n",
      "«q3_1: ──┼────■───────┤ X ├──╫──┤ X ├───────────╫─\n",
      "«      ┌─┴─┐          └───┘  ║  └───┘           ║ \n",
      "«q3_2: ┤ X ├─────────────────╫──────────────────╫─\n",
      "«      └───┘                 ║                  ║ \n",
      "«q3_3: ──────────────────────╫──────────────────╫─\n",
      "«                            ║                  ║ \n",
      "«q3_4: ──────────────────────╫──────────────────╫─\n",
      "«                            ║                  ║ \n",
      "«q3_5: ──────────────────────╫──────────────────╫─\n",
      "«                            ║                  ║ \n",
      "«q3_6: ──────────────────────╫──────────────────╫─\n",
      "«                            ║                  ║ \n",
      "«c1_0: ══════════════════════╬══════════════════╩═\n",
      "«                            ║                    \n",
      "«c1_1: ══════════════════════╩════════════════════\n",
      "«                                                 \n",
      "«c1_2: ═══════════════════════════════════════════\n",
      "«                                                 \n",
      "«c1_3: ═══════════════════════════════════════════\n",
      "«                                                 \n",
      "«c1_4: ═══════════════════════════════════════════\n",
      "«                                                 \n",
      "«c1_5: ═══════════════════════════════════════════\n",
      "«                                                 \n",
      "«c1_6: ═══════════════════════════════════════════\n",
      "«                                                 \n",
      "«c1_7: ═══════════════════════════════════════════\n",
      "«                                                 \n"
     ]
    }
   ],
   "source": [
    "print(qc)"
   ]
  },
  {
   "cell_type": "code",
   "execution_count": null,
   "metadata": {},
   "outputs": [],
   "source": []
  }
 ],
 "metadata": {
  "kernelspec": {
   "display_name": "Python 3",
   "language": "python",
   "name": "python3"
  },
  "language_info": {
   "codemirror_mode": {
    "name": "ipython",
    "version": 3
   },
   "file_extension": ".py",
   "mimetype": "text/x-python",
   "name": "python",
   "nbconvert_exporter": "python",
   "pygments_lexer": "ipython3",
   "version": "3.5.3"
  }
 },
 "nbformat": 4,
 "nbformat_minor": 2
}
