{
 "cells": [
  {
   "cell_type": "markdown",
   "metadata": {},
   "source": [
    "<li> primeiro faremos um \"Hello World\" para ver se esta funcionando </li> "
   ]
  },
  {
   "cell_type": "markdown",
   "metadata": {},
   "source": [
    "### Importamos os modulos necessarios para criar o programa"
   ]
  },
  {
   "cell_type": "code",
   "execution_count": 1,
   "metadata": {},
   "outputs": [],
   "source": [
    "from qiskit import ClassicalRegister, QuantumRegister, QuantumCircuit\n",
    "from qiskit import execute, IBMQ, Aer"
   ]
  },
  {
   "cell_type": "markdown",
   "metadata": {},
   "source": [
    "### Configuramos a chamada a API do IBM Q com o token"
   ]
  },
  {
   "cell_type": "code",
   "execution_count": 2,
   "metadata": {},
   "outputs": [
    {
     "name": "stderr",
     "output_type": "stream",
     "text": [
      "/home/yan/.local/lib/python3.5/site-packages/qiskit/providers/ibmq/credentials/configrc.py:130: UserWarning: Credentials already present. Set overwrite=True to overwrite.\n",
      "  warnings.warn('Credentials already present. '\n"
     ]
    }
   ],
   "source": [
    "IBMQ.save_account('ad8ca8c5ae944c27e25cdeb2fc5d9214382f4f5df40f4838a062868c09eb6e1612240d8c9529c9771512154d83eae4d9ab8d2b169dcb253569b770e0b71492e0')"
   ]
  },
  {
   "cell_type": "markdown",
   "metadata": {},
   "source": [
    "Em seguida, criamos um <b>registrador quântico chamado qreg </b> e um <b>registrador clássico chamado creg </b>, com 1 bit cada, e os reunimos em um <b>circuito quântico chamado circ</b>"
   ]
  },
  {
   "cell_type": "code",
   "execution_count": 3,
   "metadata": {},
   "outputs": [],
   "source": [
    "qreg = QuantumRegister(1)\n",
    "creg = ClassicalRegister(1)\n",
    "circ = QuantumCircuit(qreg, creg)"
   ]
  },
  {
   "cell_type": "markdown",
   "metadata": {},
   "source": [
    "Depois disso, nós vamos aplicar um <b> GATE X no qubit que esta no registrador qreg </b>, medir seu valor e armazená-lo no bit clássico do registrador creg"
   ]
  },
  {
   "cell_type": "code",
   "execution_count": 4,
   "metadata": {},
   "outputs": [
    {
     "data": {
      "text/plain": [
       "<qiskit.circuit.instructionset.InstructionSet at 0x7fa2e3d18ba8>"
      ]
     },
     "execution_count": 4,
     "metadata": {},
     "output_type": "execute_result"
    }
   ],
   "source": [
    "circ.x(qreg[0])\n",
    "circ.measure(qreg[0], creg[0])"
   ]
  },
  {
   "cell_type": "markdown",
   "metadata": {},
   "source": [
    "Então nós configuramos a API para executar esse circuito, o parâmetro <b> shots </b> define quantas vezes a instrução será executada"
   ]
  },
  {
   "cell_type": "code",
   "execution_count": 5,
   "metadata": {},
   "outputs": [],
   "source": [
    "simulator = Aer.get_backend('qasm_simulator')\n",
    "# Execute and get counts\n",
    "result = execute(circ, simulator, shots=2).result()\n",
    "counts = result.get_counts()"
   ]
  },
  {
   "cell_type": "code",
   "execution_count": 6,
   "metadata": {},
   "outputs": [
    {
     "name": "stdout",
     "output_type": "stream",
     "text": [
      "{'1': 2}\n"
     ]
    }
   ],
   "source": [
    "print(counts)"
   ]
  },
  {
   "cell_type": "markdown",
   "metadata": {},
   "source": [
    "Isso significa que, nas duas vezes em que o programa foi executado, o valor do bit no registro clássico foi 1"
   ]
  },
  {
   "cell_type": "markdown",
   "metadata": {},
   "source": []
  },
  {
   "cell_type": "markdown",
   "metadata": {},
   "source": []
  },
  {
   "cell_type": "markdown",
   "metadata": {},
   "source": [
    " <center> <h1> Portões Lógicos</h1> </center>"
   ]
  },
  {
   "cell_type": "markdown",
   "metadata": {},
   "source": [
    "<li> O portão quântico X atua como um NOT clássico , lançando um qubit no estado |0> para o estado |1> e vice-versa.</li>\n",
    "<br>\n",
    "<li> A porta CX atua em dois qubits ao mesmo tempo, sendo um chamado qubit de controle e o outro chamado qubit alvo. Essa porta aplica uma porta X no qubit de alvo apenas se o qubit de controle estiver no estado |1>.</li>\n",
    "<br>\n",
    "<li> O portão CCX atua em três qubits por vez, com dois qubits de controle e um qubit alvo. Aplica uma porta X no qubit alvo apenas se ambos os qubits de controle estiverem no estado |1>. </li> "
   ]
  },
  {
   "cell_type": "markdown",
   "metadata": {},
   "source": [
    "<h3> Para o gate de soma, precisamos de um gate que aceite três qubits de entrada: o input carry qubit e um qubit de cada um dos addends. O portão executaria uma operação que atingisse os mesmos resultados da tabela abaixo: </h3>"
   ]
  },
  {
   "cell_type": "markdown",
   "metadata": {},
   "source": [
    "<img src=\"https://miro.medium.com/max/404/1*6ubvM3j-yop-veQPM99SqQ.png\">"
   ]
  },
  {
   "cell_type": "markdown",
   "metadata": {},
   "source": [
    "A saída é o qubit do registrador b, pois dessa forma, podemos economizar espaço e operações substituindo o registrador b pela soma, em vez de ter outro registrador para armazená-lo. Observando a tabela verdade, podemos dividir a operação em etapas menores: "
   ]
  },
  {
   "cell_type": "markdown",
   "metadata": {},
   "source": [
    "<font color='blue'>\n",
    "<b>\n",
    "<li> Vire o qubit do registrador b se a entrada de transporte qubit estiver no estado |1>. </li>\n",
    "<li> Inverta-o novamente se o qubit de A estiver no estado |1>. </li>\n",
    "</b>\n",
    "</font>\n",
    "<br>\n",
    "<h3> Podemos conseguir esse comportamento usando portas CX :</h3>"
   ]
  },
  {
   "cell_type": "markdown",
   "metadata": {},
   "source": [
    "<img src=\"https://miro.medium.com/max/408/1*fythFnrdkXLUnV4xnUTLNQ.png\">"
   ]
  },
  {
   "cell_type": "markdown",
   "metadata": {},
   "source": [
    "<h4>A razão pela qual precisamos de números com menos de 8 dígitos é porque o simulador IBM QISkit possui apenas 32 (qu) bits para usarmos. Se deixarmos que cada número que introduzimos tenha n bits, precisaríamos de:</h4>\n",
    "<br>\n",
    "<li>2 n bits para armazenar os dois números</li>\n",
    "<br>\n",
    "<li> n transportar bits (veja como os computadores clássicos são adicionados novamente se isso não fizer sentido)</li>\n",
    "<br>\n",
    "<li> n + 1 bits clássicos para armazenar o resultado da adição. </li>\n",
    "<br>\n",
    "Isso soma 4 n + 1 bits, dos quais 3 n são qubits. Como temos apenas 32 (qu) bits para trabalhar, n pode ser, no máximo, 7,75, o que dá 7 após o arredondamento para o número inteiro mais próximo.\n",
    "<br><br>\n",
    "Não precisamos de outro registro para armazenar o resultado (quântico) porque substituímos o segundo número pela soma dos dois números para salvar qubits. Agora verificamos qual número é mais longo e usamos o comprimento do número mais longo para definir os tamanhos de nossos registros, e depois combinamos todos os registros e criamos um circuito quântico."
   ]
  },
  {
   "cell_type": "code",
   "execution_count": 7,
   "metadata": {},
   "outputs": [],
   "source": [
    "# first = input('digite o primeiro numero binario com menos de 8 bits: ')\n",
    "# second = input('digite o segundo numero binario com menos de 8 bits: ')"
   ]
  },
  {
   "cell_type": "code",
   "execution_count": 8,
   "metadata": {},
   "outputs": [],
   "source": [
    "first = '101110'\n",
    "second = '100001'\n",
    "\n",
    "# first = '100111'\n",
    "# second = '111000'\n",
    "\n",
    "\n",
    "#verifica qual o maior dos numeros \n",
    "\n",
    "lenght_first = len(first)\n",
    "lenght_second = len(second)\n",
    "\n",
    "if lenght_first > lenght_second:\n",
    "    n = lenght_first\n",
    "else:\n",
    "    n = lenght_second"
   ]
  },
  {
   "cell_type": "code",
   "execution_count": 9,
   "metadata": {},
   "outputs": [],
   "source": [
    "#inicializando dois registradores quanticos com n bits cada um (tamanho sera do o do maior numero)\n",
    "#outro registrador quantico com n+1 que contera o resultado da soma\n",
    "\n",
    "a = QuantumRegister(n) #primeiro numero\n",
    "b = QuantumRegister(n+1) #segundo numero, em seguida, soma\n",
    "c = QuantumRegister(n) #carry bits \n",
    "\n",
    "#mais um registrador classico para termos o resultado\n",
    "cl = ClassicalRegister(n+1) #output classico\n",
    "\n",
    "#criamos o circuito combinando todos eles \n",
    "qc = QuantumCircuit(a,b,c,cl)"
   ]
  },
  {
   "cell_type": "markdown",
   "metadata": {},
   "source": [
    "Quando iniciamos um circuito quantico todos os qubits estão no estado |0> então precisamos passar para o nosso circuito os bits que digitamos para fazer a soma, e faremos isso aplicando um portao X para alterar os qubits de estado |0> para |1>"
   ]
  },
  {
   "cell_type": "code",
   "execution_count": 10,
   "metadata": {},
   "outputs": [],
   "source": [
    "#configurando os registradores usando os valores binarios inseridos \n",
    "#os circuitos sao configurados fisicamente ao contrario por isso iniciamos um contador para que 1101 possa ser configurado fisicamente como 1011, repare que é o inverso\n",
    "counter = 0\n",
    "for i in first:\n",
    "    if i == \"1\":\n",
    "        qc.x(a[lenght_first - (counter+1)])\n",
    "    counter += 1\n",
    "counter = 0\n",
    "for i in second:\n",
    "    if i == \"1\":\n",
    "        qc.x(b[lenght_second - (counter+1)])\n",
    "    counter += 1"
   ]
  },
  {
   "cell_type": "code",
   "execution_count": 11,
   "metadata": {},
   "outputs": [],
   "source": [
    "#agora vamos para a adição, primeiro criamos o processo de transporte dos qubits que excedentes da soma para o terceiro circuito (c)\n",
    "for i in range(n-1):\n",
    "    qc.ccx(a[i], b[i], c[i+1])\n",
    "    qc.cx(a[i], b[i])\n",
    "    qc.ccx(c[i], b[i], c[i+1])"
   ]
  },
  {
   "cell_type": "code",
   "execution_count": 12,
   "metadata": {
    "scrolled": false
   },
   "outputs": [],
   "source": [
    "# print(qc)"
   ]
  },
  {
   "cell_type": "code",
   "execution_count": 13,
   "metadata": {},
   "outputs": [],
   "source": [
    "#For the last iteration of the carry gate, instead of feeding the\n",
    "#result to c[n], we use b[n], which is why c has only n bits,\n",
    "#with c[n-1] being the last carry bit\n",
    "qc.ccx(a[n-1], b[n-1], b[n])\n",
    "qc.cx(a[n-1], b[n-1])\n",
    "qc.ccx(c[n-1], b[n-1], b[n])\n",
    "#Reversing the gate operation performed on b[n-1]\n",
    "qc.cx(c[n-1], b[n-1])\n",
    "#Reversing the gate operations performed during the carry gate\n",
    "#implementations, which is done to reset all carry bits to \n",
    "#the |0> state\n",
    "for i in range(n-1):\n",
    "    qc.ccx(c[(n-2)-i], b[(n-2)-i], c[(n-1)-i])\n",
    "    qc.cx(a[(n-2)-i], b[(n-2)-i])\n",
    "    qc.ccx(a[(n-2)-i], b[(n-2)-i], c[(n-1)-i])\n",
    "    #These two operations act as a sum gate; if a control bit is \n",
    "    #in the |1> state then the target bit b[(n-2)-i] is flipped\n",
    "    qc.cx(c[(n-2)-i], b[(n-2)-i])\n",
    "    qc.cx(a[(n-2)-i], b[(n-2)-i])"
   ]
  },
  {
   "cell_type": "code",
   "execution_count": 14,
   "metadata": {},
   "outputs": [],
   "source": [
    "#Measure qubits\n",
    "for i in range(n+1):\n",
    "    qc.measure(b[i], cl[i])"
   ]
  },
  {
   "cell_type": "code",
   "execution_count": 15,
   "metadata": {},
   "outputs": [
    {
     "name": "stdout",
     "output_type": "stream",
     "text": [
      "{'1001111': 2}\n"
     ]
    }
   ],
   "source": [
    "#Set chosen backend and execute job\n",
    "num_shots = 2 #Setting the number of times to repeat measurement\n",
    "job = execute(qc, backend=Aer.get_backend('qasm_simulator'), shots=num_shots)\n",
    "#Get results of program\n",
    "job_stats = job.result().get_counts()\n",
    "print(job_stats)   "
   ]
  },
  {
   "cell_type": "code",
   "execution_count": 16,
   "metadata": {},
   "outputs": [
    {
     "name": "stdout",
     "output_type": "stream",
     "text": [
      "                                                                               »\n",
      "q1_0: |0>────────────■─────────────────────────────■───────────────────────────»\n",
      "         ┌───┐       │                             │                           »\n",
      "q1_1: |0>┤ X ├───────┼────■────────────────────────┼────■──────────────────────»\n",
      "         ├───┤       │    │                        │    │                      »\n",
      "q1_2: |0>┤ X ├───────┼────┼────■───────────────────┼────┼────■─────────────────»\n",
      "         ├───┤       │    │    │                   │    │    │                 »\n",
      "q1_3: |0>┤ X ├───────┼────┼────┼────■──────────────┼────┼────┼────■────────────»\n",
      "         └───┘       │    │    │    │              │    │    │    │            »\n",
      "q1_4: |0>───────■────┼────┼────┼────┼────■─────────┼────┼────┼────┼────────────»\n",
      "         ┌───┐  │    │    │    │    │    │         │    │    │    │            »\n",
      "q1_5: |0>┤ X ├──┼────┼────┼────┼────┼────┼────■────┼────┼────┼────┼────■───────»\n",
      "         ├───┤  │    │    │    │    │    │    │  ┌─┴─┐  │    │    │    │       »\n",
      "q2_0: |0>┤ X ├──┼────■────┼────┼────┼────┼────┼──┤ X ├──┼────┼────┼────┼────■──»\n",
      "         └───┘  │    │    │    │    │    │    │  └───┘┌─┴─┐  │    │    │    │  »\n",
      "q2_1: |0>───────┼────┼────■────┼────┼────┼────┼───────┤ X ├──┼────┼────┼────┼──»\n",
      "                │    │    │    │    │    │    │       └───┘┌─┴─┐  │    │    │  »\n",
      "q2_2: |0>───────┼────┼────┼────■────┼────┼────┼────────────┤ X ├──┼────┼────┼──»\n",
      "                │    │    │    │    │    │    │            └───┘┌─┴─┐  │    │  »\n",
      "q2_3: |0>───────┼────┼────┼────┼────■────┼────┼─────────────────┤ X ├──┼────┼──»\n",
      "                │    │    │    │    │  ┌─┴─┐  │                 └───┘  │    │  »\n",
      "q2_4: |0>───────■────┼────┼────┼────┼──┤ X ├──┼────────────────────────┼────┼──»\n",
      "         ┌───┐  │    │    │    │    │  └───┘  │                      ┌─┴─┐  │  »\n",
      "q2_5: |0>┤ X ├──┼────┼────┼────┼────┼─────────■──────────────────────┤ X ├──┼──»\n",
      "         └───┘  │    │    │    │    │       ┌─┴─┐                    └───┘  │  »\n",
      "q2_6: |0>───────┼────┼────┼────┼────┼───────┤ X ├───────────────────────────┼──»\n",
      "                │    │    │    │    │       └───┘                           │  »\n",
      "q3_0: |0>───────┼────┼────┼────┼────┼───────────────────────────────────────■──»\n",
      "                │  ┌─┴─┐  │    │    │                                     ┌─┴─┐»\n",
      "q3_1: |0>───────┼──┤ X ├──┼────┼────┼─────────────────────────────────────┤ X ├»\n",
      "                │  └───┘┌─┴─┐  │    │                                     └───┘»\n",
      "q3_2: |0>───────┼───────┤ X ├──┼────┼──────────────────────────────────────────»\n",
      "                │       └───┘┌─┴─┐  │                                          »\n",
      "q3_3: |0>───────┼────────────┤ X ├──┼──────────────────────────────────────────»\n",
      "                │            └───┘┌─┴─┐                                        »\n",
      "q3_4: |0>───────┼─────────────────┤ X ├────────────────────────────────────────»\n",
      "              ┌─┴─┐               └───┘                                        »\n",
      "q3_5: |0>─────┤ X ├────────────────────────────────────────────────────────────»\n",
      "              └───┘                                                            »\n",
      " c1_0: 0 ══════════════════════════════════════════════════════════════════════»\n",
      "                                                                               »\n",
      " c1_1: 0 ══════════════════════════════════════════════════════════════════════»\n",
      "                                                                               »\n",
      " c1_2: 0 ══════════════════════════════════════════════════════════════════════»\n",
      "                                                                               »\n",
      " c1_3: 0 ══════════════════════════════════════════════════════════════════════»\n",
      "                                                                               »\n",
      " c1_4: 0 ══════════════════════════════════════════════════════════════════════»\n",
      "                                                                               »\n",
      " c1_5: 0 ══════════════════════════════════════════════════════════════════════»\n",
      "                                                                               »\n",
      " c1_6: 0 ══════════════════════════════════════════════════════════════════════»\n",
      "                                                                               »\n",
      "«                                                                          »\n",
      "«q1_0: ────────────────────────────────────────────────────────────────────»\n",
      "«                                                                          »\n",
      "«q1_1: ────────────────────────────────────────────────────────────────────»\n",
      "«                                                                          »\n",
      "«q1_2: ────────────────────────────────────────────────────────────────────»\n",
      "«                                                                          »\n",
      "«q1_3: ─────────────────────────────────────────────────────────────────■──»\n",
      "«                                                                       │  »\n",
      "«q1_4: ────────────────────────────────────────■────■─────────■─────────┼──»\n",
      "«                                              │    │         │         │  »\n",
      "«q1_5: ────────────────────────────────────────┼────┼─────────┼─────────┼──»\n",
      "«                                              │    │         │         │  »\n",
      "«q2_0: ────────────────────────────────────────┼────┼─────────┼─────────┼──»\n",
      "«                                              │    │         │         │  »\n",
      "«q2_1: ──■─────────────────────────────────────┼────┼─────────┼─────────┼──»\n",
      "«        │                                     │    │         │         │  »\n",
      "«q2_2: ──┼────■────────────────────────────────┼────┼─────────┼─────────┼──»\n",
      "«        │    │                                │    │         │       ┌─┴─┐»\n",
      "«q2_3: ──┼────┼────■───────────────────────────┼────┼─────────┼────■──┤ X ├»\n",
      "«        │    │    │                         ┌─┴─┐  │  ┌───┐┌─┴─┐  │  └┬─┬┘»\n",
      "«q2_4: ──┼────┼────┼────■─────────────────■──┤ X ├──■──┤ X ├┤ X ├──┼───┤M├─»\n",
      "«        │    │    │    │       ┌───┐     │  └┬─┬┘  │  └─┬─┘└───┘  │   └╥┘ »\n",
      "«q2_5: ──┼────┼────┼────┼────■──┤ X ├─────┼───┤M├───┼────┼─────────┼────╫──»\n",
      "«        │    │    │    │  ┌─┴─┐└─┬─┘┌─┐  │   └╥┘   │    │         │    ║  »\n",
      "«q2_6: ──┼────┼────┼────┼──┤ X ├──┼──┤M├──┼────╫────┼────┼─────────┼────╫──»\n",
      "«        │    │    │    │  └─┬─┘  │  └╥┘  │    ║    │    │         │    ║  »\n",
      "«q3_0: ──┼────┼────┼────┼────┼────┼───╫───┼────╫────┼────┼─────────┼────╫──»\n",
      "«        │    │    │    │    │    │   ║   │    ║    │    │         │    ║  »\n",
      "«q3_1: ──■────┼────┼────┼────┼────┼───╫───┼────╫────┼────┼─────────┼────╫──»\n",
      "«      ┌─┴─┐  │    │    │    │    │   ║   │    ║    │    │         │    ║  »\n",
      "«q3_2: ┤ X ├──■────┼────┼────┼────┼───╫───┼────╫────┼────┼─────────┼────╫──»\n",
      "«      └───┘┌─┴─┐  │    │    │    │   ║   │    ║    │    │         │    ║  »\n",
      "«q3_3: ─────┤ X ├──■────┼────┼────┼───╫───┼────╫────┼────┼─────────■────╫──»\n",
      "«           └───┘┌─┴─┐  │    │    │   ║   │    ║    │    │       ┌─┴─┐  ║  »\n",
      "«q3_4: ──────────┤ X ├──■────┼────┼───╫───■────╫────┼────■───────┤ X ├──╫──»\n",
      "«                └───┘┌─┴─┐  │    │   ║ ┌─┴─┐  ║  ┌─┴─┐          └───┘  ║  »\n",
      "«q3_5: ───────────────┤ X ├──■────■───╫─┤ X ├──╫──┤ X ├─────────────────╫──»\n",
      "«                     └───┘           ║ └───┘  ║  └───┘                 ║  »\n",
      "«c1_0: ═══════════════════════════════╬════════╬════════════════════════╬══»\n",
      "«                                     ║        ║                        ║  »\n",
      "«c1_1: ═══════════════════════════════╬════════╬════════════════════════╬══»\n",
      "«                                     ║        ║                        ║  »\n",
      "«c1_2: ═══════════════════════════════╬════════╬════════════════════════╬══»\n",
      "«                                     ║        ║                        ║  »\n",
      "«c1_3: ═══════════════════════════════╬════════╬════════════════════════╬══»\n",
      "«                                     ║        ║                        ║  »\n",
      "«c1_4: ═══════════════════════════════╬════════╬════════════════════════╩══»\n",
      "«                                     ║        ║                           »\n",
      "«c1_5: ═══════════════════════════════╬════════╩═══════════════════════════»\n",
      "«                                     ║                                    »\n",
      "«c1_6: ═══════════════════════════════╩════════════════════════════════════»\n",
      "«                                                                          »\n",
      "«                                                                            »\n",
      "«q1_0: ──────────────────────────────────────────────────────────────────────»\n",
      "«                                                                            »\n",
      "«q1_1: ───────────────────────────────────────────────■────■─────────■───────»\n",
      "«                                                     │    │         │       »\n",
      "«q1_2: ──────────────────────■────■─────────■─────────┼────┼─────────┼───────»\n",
      "«                            │    │         │         │    │         │       »\n",
      "«q1_3: ──■─────────■─────────┼────┼─────────┼─────────┼────┼─────────┼───────»\n",
      "«        │         │         │    │         │         │    │         │       »\n",
      "«q1_4: ──┼─────────┼─────────┼────┼─────────┼─────────┼────┼─────────┼───────»\n",
      "«        │         │         │    │         │         │    │         │       »\n",
      "«q1_5: ──┼─────────┼─────────┼────┼─────────┼─────────┼────┼─────────┼───────»\n",
      "«        │         │         │    │         │         │    │         │       »\n",
      "«q2_0: ──┼─────────┼─────────┼────┼─────────┼─────────┼────┼─────────┼────■──»\n",
      "«        │         │         │    │         │       ┌─┴─┐  │  ┌───┐┌─┴─┐  │  »\n",
      "«q2_1: ──┼─────────┼─────────┼────┼─────────┼────■──┤ X ├──■──┤ X ├┤ X ├──┼──»\n",
      "«        │         │       ┌─┴─┐  │  ┌───┐┌─┴─┐  │  └┬─┬┘  │  └─┬─┘└───┘  │  »\n",
      "«q2_2: ──┼─────────┼────■──┤ X ├──■──┤ X ├┤ X ├──┼───┤M├───┼────┼─────────┼──»\n",
      "«        │  ┌───┐┌─┴─┐  │  └┬─┬┘  │  └─┬─┘└───┘  │   └╥┘   │    │         │  »\n",
      "«q2_3: ──■──┤ X ├┤ X ├──┼───┤M├───┼────┼─────────┼────╫────┼────┼─────────┼──»\n",
      "«        │  └─┬─┘└───┘  │   └╥┘   │    │         │    ║    │    │         │  »\n",
      "«q2_4: ──┼────┼─────────┼────╫────┼────┼─────────┼────╫────┼────┼─────────┼──»\n",
      "«        │    │         │    ║    │    │         │    ║    │    │         │  »\n",
      "«q2_5: ──┼────┼─────────┼────╫────┼────┼─────────┼────╫────┼────┼─────────┼──»\n",
      "«        │    │         │    ║    │    │         │    ║    │    │         │  »\n",
      "«q2_6: ──┼────┼─────────┼────╫────┼────┼─────────┼────╫────┼────┼─────────┼──»\n",
      "«        │    │         │    ║    │    │         │    ║    │    │         │  »\n",
      "«q3_0: ──┼────┼─────────┼────╫────┼────┼─────────┼────╫────┼────┼─────────■──»\n",
      "«        │    │         │    ║    │    │         │    ║    │    │       ┌─┴─┐»\n",
      "«q3_1: ──┼────┼─────────┼────╫────┼────┼─────────■────╫────┼────■───────┤ X ├»\n",
      "«        │    │         │    ║    │    │       ┌─┴─┐  ║  ┌─┴─┐          └───┘»\n",
      "«q3_2: ──┼────┼─────────■────╫────┼────■───────┤ X ├──╫──┤ X ├───────────────»\n",
      "«        │    │       ┌─┴─┐  ║  ┌─┴─┐          └───┘  ║  └───┘               »\n",
      "«q3_3: ──┼────■───────┤ X ├──╫──┤ X ├─────────────────╫──────────────────────»\n",
      "«      ┌─┴─┐          └───┘  ║  └───┘                 ║                      »\n",
      "«q3_4: ┤ X ├─────────────────╫────────────────────────╫──────────────────────»\n",
      "«      └───┘                 ║                        ║                      »\n",
      "«q3_5: ──────────────────────╫────────────────────────╫──────────────────────»\n",
      "«                            ║                        ║                      »\n",
      "«c1_0: ══════════════════════╬════════════════════════╬══════════════════════»\n",
      "«                            ║                        ║                      »\n",
      "«c1_1: ══════════════════════╬════════════════════════╬══════════════════════»\n",
      "«                            ║                        ║                      »\n",
      "«c1_2: ══════════════════════╬════════════════════════╩══════════════════════»\n",
      "«                            ║                                               »\n",
      "«c1_3: ══════════════════════╩═══════════════════════════════════════════════»\n",
      "«                                                                            »\n",
      "«c1_4: ══════════════════════════════════════════════════════════════════════»\n",
      "«                                                                            »\n",
      "«c1_5: ══════════════════════════════════════════════════════════════════════»\n",
      "«                                                                            »\n",
      "«c1_6: ══════════════════════════════════════════════════════════════════════»\n",
      "«                                                                            »\n",
      "«                             \n",
      "«q1_0: ──■────■─────────■─────\n",
      "«        │    │         │     \n",
      "«q1_1: ──┼────┼─────────┼─────\n",
      "«        │    │         │     \n",
      "«q1_2: ──┼────┼─────────┼─────\n",
      "«        │    │         │     \n",
      "«q1_3: ──┼────┼─────────┼─────\n",
      "«        │    │         │     \n",
      "«q1_4: ──┼────┼─────────┼─────\n",
      "«        │    │         │     \n",
      "«q1_5: ──┼────┼─────────┼─────\n",
      "«      ┌─┴─┐  │  ┌───┐┌─┴─┐┌─┐\n",
      "«q2_0: ┤ X ├──■──┤ X ├┤ X ├┤M├\n",
      "«      └┬─┬┘  │  └─┬─┘└───┘└╥┘\n",
      "«q2_1: ─┤M├───┼────┼────────╫─\n",
      "«       └╥┘   │    │        ║ \n",
      "«q2_2: ──╫────┼────┼────────╫─\n",
      "«        ║    │    │        ║ \n",
      "«q2_3: ──╫────┼────┼────────╫─\n",
      "«        ║    │    │        ║ \n",
      "«q2_4: ──╫────┼────┼────────╫─\n",
      "«        ║    │    │        ║ \n",
      "«q2_5: ──╫────┼────┼────────╫─\n",
      "«        ║    │    │        ║ \n",
      "«q2_6: ──╫────┼────┼────────╫─\n",
      "«        ║    │    │        ║ \n",
      "«q3_0: ──╫────┼────■────────╫─\n",
      "«        ║  ┌─┴─┐           ║ \n",
      "«q3_1: ──╫──┤ X ├───────────╫─\n",
      "«        ║  └───┘           ║ \n",
      "«q3_2: ──╫──────────────────╫─\n",
      "«        ║                  ║ \n",
      "«q3_3: ──╫──────────────────╫─\n",
      "«        ║                  ║ \n",
      "«q3_4: ──╫──────────────────╫─\n",
      "«        ║                  ║ \n",
      "«q3_5: ──╫──────────────────╫─\n",
      "«        ║                  ║ \n",
      "«c1_0: ══╬══════════════════╩═\n",
      "«        ║                    \n",
      "«c1_1: ══╩════════════════════\n",
      "«                             \n",
      "«c1_2: ═══════════════════════\n",
      "«                             \n",
      "«c1_3: ═══════════════════════\n",
      "«                             \n",
      "«c1_4: ═══════════════════════\n",
      "«                             \n",
      "«c1_5: ═══════════════════════\n",
      "«                             \n",
      "«c1_6: ═══════════════════════\n",
      "«                             \n"
     ]
    }
   ],
   "source": [
    "print(qc)"
   ]
  },
  {
   "cell_type": "code",
   "execution_count": null,
   "metadata": {},
   "outputs": [],
   "source": []
  }
 ],
 "metadata": {
  "kernelspec": {
   "display_name": "Python 3",
   "language": "python",
   "name": "python3"
  },
  "language_info": {
   "codemirror_mode": {
    "name": "ipython",
    "version": 3
   },
   "file_extension": ".py",
   "mimetype": "text/x-python",
   "name": "python",
   "nbconvert_exporter": "python",
   "pygments_lexer": "ipython3",
   "version": "3.5.3"
  }
 },
 "nbformat": 4,
 "nbformat_minor": 2
}
