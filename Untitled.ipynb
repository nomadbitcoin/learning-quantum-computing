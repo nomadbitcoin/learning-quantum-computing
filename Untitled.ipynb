{
 "cells": [
  {
   "cell_type": "code",
   "execution_count": 116,
   "metadata": {},
   "outputs": [],
   "source": [
    "import numpy as np\n",
    "from qiskit import QuantumCircuit, execute, Aer\n",
    "from qiskit.visualization import plot_histogram"
   ]
  },
  {
   "cell_type": "code",
   "execution_count": 133,
   "metadata": {},
   "outputs": [],
   "source": [
    "def simulate():\n",
    "    \"\"\" faz as simulações e plota um grafico com o resultado das probabilidades\"\"\"\n",
    "    simulator = Aer.get_backend('qasm_simulator')\n",
    "    job = execute(circuit, simulator, shots=1000)\n",
    "    result = job.result()\n",
    "    counts = result.get_counts(circuit)\n",
    "    return plot_histogram(counts)"
   ]
  },
  {
   "cell_type": "markdown",
   "metadata": {},
   "source": [
    "# Se colocamor três qubits em superposição a probabilidade de cada um deles colapsar em 1 ou 0 é aleatoria"
   ]
  },
  {
   "cell_type": "code",
   "execution_count": 118,
   "metadata": {},
   "outputs": [
    {
     "data": {
      "text/html": [
       "<pre style=\"word-wrap: normal;white-space: pre;background: #fff0;line-height: 1.1;font-family: &quot;Courier New&quot;,Courier,monospace\">     ┌───┐┌─┐      \n",
       "q_0: ┤ H ├┤M├──────\n",
       "     ├───┤└╥┘┌─┐   \n",
       "q_1: ┤ H ├─╫─┤M├───\n",
       "     ├───┤ ║ └╥┘┌─┐\n",
       "q_2: ┤ H ├─╫──╫─┤M├\n",
       "     └───┘ ║  ║ └╥┘\n",
       "c_0: ══════╩══╬══╬═\n",
       "              ║  ║ \n",
       "c_1: ═════════╩══╬═\n",
       "                 ║ \n",
       "c_2: ════════════╩═\n",
       "                   </pre>"
      ],
      "text/plain": [
       "     ┌───┐┌─┐      \n",
       "q_0: ┤ H ├┤M├──────\n",
       "     ├───┤└╥┘┌─┐   \n",
       "q_1: ┤ H ├─╫─┤M├───\n",
       "     ├───┤ ║ └╥┘┌─┐\n",
       "q_2: ┤ H ├─╫──╫─┤M├\n",
       "     └───┘ ║  ║ └╥┘\n",
       "c_0: ══════╩══╬══╬═\n",
       "              ║  ║ \n",
       "c_1: ═════════╩══╬═\n",
       "                 ║ \n",
       "c_2: ════════════╩═\n",
       "                   "
      ]
     },
     "execution_count": 118,
     "metadata": {},
     "output_type": "execute_result"
    }
   ],
   "source": [
    "circuit = QuantumCircuit(3,3)\n",
    "circuit.h(0)\n",
    "circuit.h(1)\n",
    "circuit.h(2)\n",
    "circuit.measure([0,1,2], [0,1,2])\n",
    "circuit.draw()"
   ]
  },
  {
   "cell_type": "code",
   "execution_count": 123,
   "metadata": {},
   "outputs": [
    {
     "data": {
      "image/png": "[encoded data removed]",
      "text/plain": [
       "<Figure size 504x360 with 1 Axes>"
      ]
     },
     "execution_count": 123,
     "metadata": {},
     "output_type": "execute_result"
    }
   ],
   "source": [
    "simulate()"
   ]
  },
  {
   "cell_type": "markdown",
   "metadata": {},
   "source": [
    "# Vamos criar o estado de Bell: coloca-se um qubit em superposição e emaranha-o a outro\n",
    "\n",
    "a probabilidade de o segundo colapsar em 1 é praticamente definitiva\n",
    "deixei com três qubits apenas para confirmar que a probabilidade do terceiro colapsar em 1 o os qubits emaranhados colapsarem em 0 é inexistente"
   ]
  },
  {
   "cell_type": "code",
   "execution_count": 131,
   "metadata": {},
   "outputs": [
    {
     "data": {
      "text/html": [
       "<pre style=\"word-wrap: normal;white-space: pre;background: #fff0;line-height: 1.1;font-family: &quot;Courier New&quot;,Courier,monospace\">     ┌───┐     ┌─┐   \n",
       "q_0: ┤ H ├──■──┤M├───\n",
       "     └───┘┌─┴─┐└╥┘┌─┐\n",
       "q_1: ─────┤ X ├─╫─┤M├\n",
       "      ┌─┐ └───┘ ║ └╥┘\n",
       "q_2: ─┤M├───────╫──╫─\n",
       "      └╥┘       ║  ║ \n",
       "c_0: ══╬════════╩══╬═\n",
       "       ║           ║ \n",
       "c_1: ══╬═══════════╩═\n",
       "       ║             \n",
       "c_2: ══╩═════════════\n",
       "                     </pre>"
      ],
      "text/plain": [
       "     ┌───┐     ┌─┐   \n",
       "q_0: ┤ H ├──■──┤M├───\n",
       "     └───┘┌─┴─┐└╥┘┌─┐\n",
       "q_1: ─────┤ X ├─╫─┤M├\n",
       "      ┌─┐ └───┘ ║ └╥┘\n",
       "q_2: ─┤M├───────╫──╫─\n",
       "      └╥┘       ║  ║ \n",
       "c_0: ══╬════════╩══╬═\n",
       "       ║           ║ \n",
       "c_1: ══╬═══════════╩═\n",
       "       ║             \n",
       "c_2: ══╩═════════════\n",
       "                     "
      ]
     },
     "execution_count": 131,
     "metadata": {},
     "output_type": "execute_result"
    }
   ],
   "source": [
    "circuit = QuantumCircuit(3,3)\n",
    "circuit.h(0)\n",
    "circuit.cx(0,1)\n",
    "circuit.measure([0,1,2], [0,1,2])\n",
    "circuit.draw()"
   ]
  },
  {
   "cell_type": "code",
   "execution_count": 132,
   "metadata": {},
   "outputs": [
    {
     "data": {
      "image/png": "[encoded data removed]",
      "text/plain": [
       "<Figure size 504x360 with 1 Axes>"
      ]
     },
     "execution_count": 132,
     "metadata": {},
     "output_type": "execute_result"
    }
   ],
   "source": [
    "simulate()"
   ]
  },
  {
   "cell_type": "markdown",
   "metadata": {},
   "source": [
    "# Vamos colocar três qubits emaranhados para ver se a probabilidade de colapsarem em 1 é também praticamente definitiva"
   ]
  },
  {
   "cell_type": "code",
   "execution_count": 134,
   "metadata": {},
   "outputs": [
    {
     "data": {
      "text/html": [
       "<pre style=\"word-wrap: normal;white-space: pre;background: #fff0;line-height: 1.1;font-family: &quot;Courier New&quot;,Courier,monospace\">     ┌───┐     ┌─┐      \n",
       "q_0: ┤ H ├──■──┤M├──────\n",
       "     └───┘  │  └╥┘┌─┐   \n",
       "q_1: ───────■───╫─┤M├───\n",
       "          ┌─┴─┐ ║ └╥┘┌─┐\n",
       "q_2: ─────┤ X ├─╫──╫─┤M├\n",
       "          └───┘ ║  ║ └╥┘\n",
       "c_0: ═══════════╩══╬══╬═\n",
       "                   ║  ║ \n",
       "c_1: ══════════════╩══╬═\n",
       "                      ║ \n",
       "c_2: ═════════════════╩═\n",
       "                        </pre>"
      ],
      "text/plain": [
       "     ┌───┐     ┌─┐      \n",
       "q_0: ┤ H ├──■──┤M├──────\n",
       "     └───┘  │  └╥┘┌─┐   \n",
       "q_1: ───────■───╫─┤M├───\n",
       "          ┌─┴─┐ ║ └╥┘┌─┐\n",
       "q_2: ─────┤ X ├─╫──╫─┤M├\n",
       "          └───┘ ║  ║ └╥┘\n",
       "c_0: ═══════════╩══╬══╬═\n",
       "                   ║  ║ \n",
       "c_1: ══════════════╩══╬═\n",
       "                      ║ \n",
       "c_2: ═════════════════╩═\n",
       "                        "
      ]
     },
     "execution_count": 134,
     "metadata": {},
     "output_type": "execute_result"
    }
   ],
   "source": [
    "circuit = QuantumCircuit(3,3)\n",
    "circuit.h(0)\n",
    "circuit.ccx(0,1,2)\n",
    "circuit.measure([0,1,2], [0,1,2])\n",
    "circuit.draw()"
   ]
  },
  {
   "cell_type": "code",
   "execution_count": 135,
   "metadata": {},
   "outputs": [
    {
     "data": {
      "image/png": "[encoded data removed]",
      "text/plain": [
       "<Figure size 504x360 with 1 Axes>"
      ]
     },
     "execution_count": 135,
     "metadata": {},
     "output_type": "execute_result"
    }
   ],
   "source": [
    "simulate()"
   ]
  },
  {
   "cell_type": "markdown",
   "metadata": {},
   "source": [
    "Como podemos ver, a probabilidade do segundo qubit colapsar em 1 é praticamente inexistente já que ele não está em superposição, e, consequentemente a do terceiro colapsar em 1 também acaba sendo inexistente já que o GATE CCX aplica um not no alvo se os dois anteriores forem 1\n",
    "\n",
    "e se colocarmos o segundo também em superposição?"
   ]
  },
  {
   "cell_type": "code",
   "execution_count": 140,
   "metadata": {},
   "outputs": [
    {
     "data": {
      "text/html": [
       "<pre style=\"word-wrap: normal;white-space: pre;background: #fff0;line-height: 1.1;font-family: &quot;Courier New&quot;,Courier,monospace\">     ┌───┐     ┌─┐      \n",
       "q_0: ┤ H ├──■──┤M├──────\n",
       "     ├───┤  │  └╥┘┌─┐   \n",
       "q_1: ┤ H ├──■───╫─┤M├───\n",
       "     └───┘┌─┴─┐ ║ └╥┘┌─┐\n",
       "q_2: ─────┤ X ├─╫──╫─┤M├\n",
       "          └───┘ ║  ║ └╥┘\n",
       "c_0: ═══════════╩══╬══╬═\n",
       "                   ║  ║ \n",
       "c_1: ══════════════╩══╬═\n",
       "                      ║ \n",
       "c_2: ═════════════════╩═\n",
       "                        </pre>"
      ],
      "text/plain": [
       "     ┌───┐     ┌─┐      \n",
       "q_0: ┤ H ├──■──┤M├──────\n",
       "     ├───┤  │  └╥┘┌─┐   \n",
       "q_1: ┤ H ├──■───╫─┤M├───\n",
       "     └───┘┌─┴─┐ ║ └╥┘┌─┐\n",
       "q_2: ─────┤ X ├─╫──╫─┤M├\n",
       "          └───┘ ║  ║ └╥┘\n",
       "c_0: ═══════════╩══╬══╬═\n",
       "                   ║  ║ \n",
       "c_1: ══════════════╩══╬═\n",
       "                      ║ \n",
       "c_2: ═════════════════╩═\n",
       "                        "
      ]
     },
     "execution_count": 140,
     "metadata": {},
     "output_type": "execute_result"
    }
   ],
   "source": [
    "circuit = QuantumCircuit(3,3)\n",
    "circuit.h(0)\n",
    "circuit.h(1)\n",
    "circuit.ccx(0,1,2)\n",
    "circuit.measure([0,1,2], [0,1,2])\n",
    "circuit.draw()"
   ]
  },
  {
   "cell_type": "code",
   "execution_count": 141,
   "metadata": {},
   "outputs": [
    {
     "data": {
      "image/png": "[encoded data removed]",
      "text/plain": [
       "<Figure size 504x360 with 1 Axes>"
      ]
     },
     "execution_count": 141,
     "metadata": {},
     "output_type": "execute_result"
    }
   ],
   "source": [
    "simulate()"
   ]
  },
  {
   "cell_type": "markdown",
   "metadata": {},
   "source": [
    "Como esperado, a probabilidade do terceiro qubit colapsar em 1 aumentou consideravelmente já que tendo os dois primeiros qubits em superposição eles poderão provavelmente colapsar em 1, e, consequentemente o terceiro colapsar em 1 já que está emaranhado aos dois primeiros"
   ]
  },
  {
   "cell_type": "markdown",
   "metadata": {},
   "source": [
    "# E se, colocarmos apenas o primeiro em superposição mas emaranhado com o segundo, e o terceiro emaranhado aos dois primeiros?"
   ]
  },
  {
   "cell_type": "code",
   "execution_count": 148,
   "metadata": {},
   "outputs": [
    {
     "data": {
      "text/html": [
       "<pre style=\"word-wrap: normal;white-space: pre;background: #fff0;line-height: 1.1;font-family: &quot;Courier New&quot;,Courier,monospace\">     ┌───┐          ┌─┐      \n",
       "q_0: ┤ H ├──■────■──┤M├──────\n",
       "     └───┘┌─┴─┐  │  └╥┘┌─┐   \n",
       "q_1: ─────┤ X ├──■───╫─┤M├───\n",
       "          └───┘┌─┴─┐ ║ └╥┘┌─┐\n",
       "q_2: ──────────┤ X ├─╫──╫─┤M├\n",
       "               └───┘ ║  ║ └╥┘\n",
       "c_0: ════════════════╩══╬══╬═\n",
       "                        ║  ║ \n",
       "c_1: ═══════════════════╩══╬═\n",
       "                           ║ \n",
       "c_2: ══════════════════════╩═\n",
       "                             </pre>"
      ],
      "text/plain": [
       "     ┌───┐          ┌─┐      \n",
       "q_0: ┤ H ├──■────■──┤M├──────\n",
       "     └───┘┌─┴─┐  │  └╥┘┌─┐   \n",
       "q_1: ─────┤ X ├──■───╫─┤M├───\n",
       "          └───┘┌─┴─┐ ║ └╥┘┌─┐\n",
       "q_2: ──────────┤ X ├─╫──╫─┤M├\n",
       "               └───┘ ║  ║ └╥┘\n",
       "c_0: ════════════════╩══╬══╬═\n",
       "                        ║  ║ \n",
       "c_1: ═══════════════════╩══╬═\n",
       "                           ║ \n",
       "c_2: ══════════════════════╩═\n",
       "                             "
      ]
     },
     "execution_count": 148,
     "metadata": {},
     "output_type": "execute_result"
    }
   ],
   "source": [
    "circuit = QuantumCircuit(3,3)\n",
    "circuit.h(0)\n",
    "circuit.cx(0,1)\n",
    "circuit.ccx(0,1,2)\n",
    "circuit.measure([0,1,2], [0,1,2])\n",
    "circuit.draw()"
   ]
  },
  {
   "cell_type": "code",
   "execution_count": 149,
   "metadata": {},
   "outputs": [
    {
     "data": {
      "image/png": "[encoded data removed]",
      "text/plain": [
       "<Figure size 504x360 with 1 Axes>"
      ]
     },
     "execution_count": 149,
     "metadata": {},
     "output_type": "execute_result"
    }
   ],
   "source": [
    "simulate()"
   ]
  },
  {
   "cell_type": "markdown",
   "metadata": {},
   "source": [
    "chega a ser intuitivo, a probabilidade do primeiro qubit colapsar em 1 é de 50% se ele está em superposição, se ele colapsar em 1 irá transferir esse estado para o segundo qubit, e, se os três estão emaranhados, esse estado será transferido também ao terceiro, logo, 50% de change dos 3 qubits colapsarem em 1 e 50% dos três colapsarem em 0"
   ]
  },
  {
   "cell_type": "code",
   "execution_count": null,
   "metadata": {},
   "outputs": [],
   "source": []
  }
 ],
 "metadata": {
  "kernelspec": {
   "display_name": "Python 3",
   "language": "python",
   "name": "python3"
  },
  "language_info": {
   "codemirror_mode": {
    "name": "ipython",
    "version": 3
   },
   "file_extension": ".py",
   "mimetype": "text/x-python",
   "name": "python",
   "nbconvert_exporter": "python",
   "pygments_lexer": "ipython3",
   "version": "3.5.3"
  }
 },
 "nbformat": 4,
 "nbformat_minor": 2
}
